{
 "cells": [
  {
   "cell_type": "code",
   "execution_count": 22,
   "metadata": {},
   "outputs": [],
   "source": [
    "import cv2\n",
    "import os\n",
    "import pandas as pd\n",
    "import numpy as np\n",
    "import matplotlib.pyplot as plt\n",
    "from tqdm import tqdm\n",
    "import time\n",
    "from itertools import product"
   ]
  },
  {
   "cell_type": "code",
   "execution_count": 19,
   "metadata": {},
   "outputs": [],
   "source": [
    "def match_images(image1, image2, show_matches=False, nfeatures=1000,scaleFactor = 1.2, nlevels=8):\n",
    "    # Load color images\n",
    "    img1 = cv2.imread(image1)\n",
    "    img2 = cv2.imread(image2)\n",
    "\n",
    "    \n",
    "    # Initialize ORB detector\n",
    "    orb = cv2.ORB_create(nfeatures=nfeatures,scaleFactor=scaleFactor,nlevels=nlevels )\n",
    "\n",
    "    # Find the keypoints and descriptors with ORB\n",
    "    kp1, des1 = orb.detectAndCompute(img1, None)\n",
    "    kp2, des2 = orb.detectAndCompute(img2, None)\n",
    "    # print(len(des1))\n",
    "    \n",
    "    \n",
    "    if des2 is None or des1 is None:\n",
    "        # print(type(des2))\n",
    "        return 0    \n",
    "\n",
    "    # Use the BFMatcher to find the best matches\n",
    "    bf = cv2.BFMatcher()\n",
    "    matches = bf.knnMatch(des1, des2, k=2)\n",
    "\n",
    "    # print(f\"lem{len(matches)}\")\n",
    "    # print(matches)\n",
    "    # Apply ratio test\n",
    "    good_matches = []\n",
    "\n",
    "    for match in matches:\n",
    "        # Check if there are enough values to unpack\n",
    "        if len(match) == 2:\n",
    "            m, n = match\n",
    "            if m.distance < 0.75 * n.distance:\n",
    "                good_matches.append(m)\n",
    "\n",
    "    # Display the matches\n",
    "    if show_matches:\n",
    "        # Draw matches on the images\n",
    "        img_matches = cv2.drawMatches(img1, kp1, img2, kp2, good_matches, None, flags=cv2.DrawMatchesFlags_NOT_DRAW_SINGLE_POINTS)\n",
    "\n",
    "        cv2.imshow(\"Matches\", img_matches)\n",
    "        cv2.waitKey(0)\n",
    "        cv2.destroyAllWindows()\n",
    "\n",
    "    return len(good_matches)\n",
    "\n",
    "def find_total_matches(folder_path, timestamps, show_matches=False, nfeatures=1000,scaleFactor = 1.2, nlevels=8):\n",
    "    \n",
    "    total_matches = 0\n",
    "    num_of_matches_list = []\n",
    "    for i in tqdm(range(len(timestamps) - 1)):\n",
    "        current_image = os.path.join(folder_path, timestamps[i])+'.png'\n",
    "        next_image = os.path.join(folder_path, timestamps[i + 1])+'.png'\n",
    "        \n",
    "        # Match features and accumulate the total matches\n",
    "        matches = match_images(current_image, next_image,show_matches,nfeatures=1000,scaleFactor = 1.2, nlevels=8)\n",
    "        total_matches += matches\n",
    "        num_of_matches_list.append(matches)\n",
    "\n",
    "    \n",
    "    print(f\"Total matches: {total_matches}\")\n",
    "\n",
    "    return num_of_matches_list, total_matches,\n",
    "\n",
    "\n"
   ]
  },
  {
   "cell_type": "code",
   "execution_count": 20,
   "metadata": {},
   "outputs": [],
   "source": [
    "# nfeatures=3000\n",
    "# scaleFactor = 1.05\n",
    "# nlevels=20\n",
    "# Provide the path to the folder containing images\n",
    "def evaluate_orb_config(nfeatures=3000, scaleFactor = 1.05, nlevels=20,show_plot=False):\n",
    "    time_stamps = \"/home/ayon/git/orbslam3_docker/Datasets/EuRoC/time_stamp.txt\"\n",
    "\n",
    "    df = pd.read_csv(time_stamps, header=None)\n",
    "    time_stamps = df[0].to_numpy().astype('str')\n",
    "    match_list_df = pd.DataFrame()\n",
    "\n",
    "\n",
    "    if show_plot:\n",
    "        plt.figure(figsize=(16,12))\n",
    "    total_time_list = []\n",
    "    for i in range(1,7):\n",
    "        print(f\"matching for MH0{i}\")\n",
    "        image_folder = f\"/home/ayon/git/orbslam3_docker/Datasets/EuRoC/MH0{i}/mav0/cam0/data\"\n",
    "        assert len(os.listdir(image_folder))==len(time_stamps)\n",
    "        start_time = time.time()\n",
    "        num_of_matches_list, total_matches = find_total_matches(image_folder, time_stamps,nfeatures=nfeatures,scaleFactor = scaleFactor, nlevels=nlevels)\n",
    "        end_time = time.time()\n",
    "        total_time_list.append(end_time-start_time)\n",
    "        \n",
    "        match_list_df[f'MH0{i}'] = num_of_matches_list\n",
    "        if show_plot:\n",
    "            plt.plot(num_of_matches_list, label=f'MH0{i}')\n",
    "\n",
    "    match_list_df.to_csv(f'orb_matching_results/{nfeatures}_{scaleFactor}_{nlevels}.csv')\n",
    "    np.savetxt(f'orb_matching_results/times_{nfeatures}_{scaleFactor}_{nlevels}.txt', my_list, fmt='%d', delimiter=', ')\n",
    "    \n",
    "    if show_plot:\n",
    "        plt.legend()\n",
    "        plt.show()"
   ]
  },
  {
   "cell_type": "code",
   "execution_count": 24,
   "metadata": {},
   "outputs": [
    {
     "ename": "SyntaxError",
     "evalue": "invalid syntax (<ipython-input-24-b5c4e4bdf617>, line 10)",
     "output_type": "error",
     "traceback": [
      "\u001b[0;36m  File \u001b[0;32m\"<ipython-input-24-b5c4e4bdf617>\"\u001b[0;36m, line \u001b[0;32m10\u001b[0m\n\u001b[0;31m    evaluate_orb_config(nfeatures=nfeatures, scaleFactor = scaleFactor, nlevels=nlevels, show_plot=False):\u001b[0m\n\u001b[0m                                                                                                          ^\u001b[0m\n\u001b[0;31mSyntaxError\u001b[0m\u001b[0;31m:\u001b[0m invalid syntax\n"
     ]
    }
   ],
   "source": [
    "nfeatures_list = [1000, 2000, 3000, 4000]\n",
    "scaleFactor_list = [1.2, 1.15, 1.10, 1.05]\n",
    "nlevels_list = [8,12,16,20]\n",
    "\n",
    "# Get all possible combinations\n",
    "combinations = list(product(nfeatures_list, scaleFactor_list, nlevels_list))\n",
    "\n",
    "# Print the result\n",
    "for nfeatures, scaleFactor, nlevels in tqdm(combinations):\n",
    "    evaluate_orb_config(nfeatures=nfeatures, scaleFactor = scaleFactor, nlevels=nlevels, show_plot=False)\n",
    "    "
   ]
  },
  {
   "cell_type": "code",
   "execution_count": 17,
   "metadata": {},
   "outputs": [
    {
     "data": {
      "text/plain": [
       "-2.384185791015625e-07"
      ]
     },
     "execution_count": 17,
     "metadata": {},
     "output_type": "execute_result"
    }
   ],
   "source": []
  }
 ],
 "metadata": {
  "kernelspec": {
   "display_name": "vslam",
   "language": "python",
   "name": "python3"
  },
  "language_info": {
   "codemirror_mode": {
    "name": "ipython",
    "version": 3
   },
   "file_extension": ".py",
   "mimetype": "text/x-python",
   "name": "python",
   "nbconvert_exporter": "python",
   "pygments_lexer": "ipython3",
   "version": "3.7.16"
  }
 },
 "nbformat": 4,
 "nbformat_minor": 2
}
