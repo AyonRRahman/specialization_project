{
 "cells": [
  {
   "cell_type": "code",
   "execution_count": 1,
   "metadata": {},
   "outputs": [],
   "source": [
    "import pandas as pd "
   ]
  },
  {
   "cell_type": "code",
   "execution_count": null,
   "metadata": {},
   "outputs": [],
   "source": [
    "# Load CSV files into DataFrames\n",
    "file1 = pd.read_csv('/home/ayon/git/Thesis_data/plots/ape_Visual-Inertial Slam_Results.csv')\n",
    "file2 = pd.read_csv('/home/ayon/git/Thesis_data/plots/ape_Visual-Inertial Slam_Results1.csv')\n",
    "file3 = pd.read_csv('/home/ayon/git/Thesis_data/plots/ape_Visual-Inertial Slam_Results2.csv')\n",
    "\n",
    "# Combine DataFrames\n",
    "combined_df = pd.concat([file1, file2, file3], ignore_index=True)\n",
    "\n",
    "# Check the combined DataFrame\n",
    "print(combined_df)\n"
   ]
  }
 ],
 "metadata": {
  "kernelspec": {
   "display_name": "vslam",
   "language": "python",
   "name": "python3"
  },
  "language_info": {
   "codemirror_mode": {
    "name": "ipython",
    "version": 3
   },
   "file_extension": ".py",
   "mimetype": "text/x-python",
   "name": "python",
   "nbconvert_exporter": "python",
   "pygments_lexer": "ipython3",
   "version": "3.7.16"
  }
 },
 "nbformat": 4,
 "nbformat_minor": 2
}
